{
 "cells": [
  {
   "cell_type": "code",
   "execution_count": 1,
   "id": "916080b3-caae-47a6-8edc-2b701109d0b5",
   "metadata": {},
   "outputs": [],
   "source": [
    "import numpy as np\n",
    "import cv2\n",
    "\n",
    "# Ukuran bendera\n",
    "height = 200\n",
    "width = 350\n",
    "\n",
    "# Warna dalam format BGR\n",
    "black = (0, 0, 0)    # Hitam\n",
    "red = (0, 0, 255)    # Merah\n",
    "gold = (0, 255, 255) # Emas (kuning)\n",
    "\n",
    "# Membuat latar belakang hitam\n",
    "flag = np.zeros((height, width, 3), dtype=np.uint8)\n",
    "\n",
    "# Tinggi setiap garis\n",
    "stripe_height = height // 3\n",
    "\n",
    "# Menggambar tiga garis horizontal\n",
    "flag[:stripe_height, :] = black  # Hitam atas\n",
    "flag[stripe_height:stripe_height*2, :] = red  # Merah tengah\n",
    "flag[stripe_height*2:, :] = gold  # Emas bawah\n",
    "\n",
    "# Menampilkan bendera Jerman\n",
    "cv2.imshow(\"Bendera Jerman\", flag)\n",
    "cv2.waitKey(0)\n",
    "cv2.destroyAllWindows()\n"
   ]
  },
  {
   "cell_type": "code",
   "execution_count": null,
   "id": "2969f480-733e-4c17-8fe9-384a401f9b6c",
   "metadata": {},
   "outputs": [],
   "source": []
  }
 ],
 "metadata": {
  "kernelspec": {
   "display_name": "Python 3 (ipykernel)",
   "language": "python",
   "name": "python3"
  },
  "language_info": {
   "codemirror_mode": {
    "name": "ipython",
    "version": 3
   },
   "file_extension": ".py",
   "mimetype": "text/x-python",
   "name": "python",
   "nbconvert_exporter": "python",
   "pygments_lexer": "ipython3",
   "version": "3.10.11"
  }
 },
 "nbformat": 4,
 "nbformat_minor": 5
}
